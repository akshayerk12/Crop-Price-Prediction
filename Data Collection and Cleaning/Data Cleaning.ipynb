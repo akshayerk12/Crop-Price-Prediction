{
 "cells": [
  {
   "cell_type": "code",
   "execution_count": 1,
   "id": "3250ba93-b3ec-4b76-97ba-fcbbf5882f66",
   "metadata": {},
   "outputs": [],
   "source": [
    "import pandas as pd\n",
    "import os"
   ]
  },
  {
   "cell_type": "code",
   "execution_count": 2,
   "id": "9ada46c2-4682-402e-a62b-5947d64d3ebf",
   "metadata": {},
   "outputs": [],
   "source": [
    "folder_path = \"dataset xlsx\""
   ]
  },
  {
   "cell_type": "code",
   "execution_count": 3,
   "id": "af654dc8-775d-45b3-9270-13587c65101e",
   "metadata": {},
   "outputs": [],
   "source": [
    "file_list = [f for f in os.listdir(folder_path) if f.endswith('.xlsx')]"
   ]
  },
  {
   "cell_type": "code",
   "execution_count": 18,
   "id": "80093268-acb7-4a4c-8f44-fd5058a65920",
   "metadata": {},
   "outputs": [],
   "source": [
    "# dataframes = {}\n",
    "main_df = pd.DataFrame()\n",
    "i = 0\n",
    "for file in file_list:\n",
    "    file_path = os.path.join(folder_path, file)\n",
    "    df_name = 'df' + str(i)  # This will create names like 'df0', 'df1', etc.\n",
    "    df = pd.read_excel(file_path, header=1)\n",
    "    crop_name = file[:-5]   # Assuming file names end with '.xlsx'\n",
    "    df['Crop'] = crop_name  # Add a column with the crop name from the file name\n",
    "    main_df = pd.concat([main_df, df], axis= 0) \n",
    "    i += 1"
   ]
  },
  {
   "cell_type": "code",
   "execution_count": 19,
   "id": "1034b33d-d4ce-494d-b4aa-587f67766c97",
   "metadata": {},
   "outputs": [
    {
     "data": {
      "text/html": [
       "<div>\n",
       "<style scoped>\n",
       "    .dataframe tbody tr th:only-of-type {\n",
       "        vertical-align: middle;\n",
       "    }\n",
       "\n",
       "    .dataframe tbody tr th {\n",
       "        vertical-align: top;\n",
       "    }\n",
       "\n",
       "    .dataframe thead th {\n",
       "        text-align: right;\n",
       "    }\n",
       "</style>\n",
       "<table border=\"1\" class=\"dataframe\">\n",
       "  <thead>\n",
       "    <tr style=\"text-align: right;\">\n",
       "      <th></th>\n",
       "      <th>State Name</th>\n",
       "      <th>District Name</th>\n",
       "      <th>Market Name</th>\n",
       "      <th>Variety</th>\n",
       "      <th>Group</th>\n",
       "      <th>Arrivals (Tonnes)</th>\n",
       "      <th>Min Price (Rs./Quintal)</th>\n",
       "      <th>Max Price (Rs./Quintal)</th>\n",
       "      <th>Modal Price (Rs./Quintal)</th>\n",
       "      <th>Reported Date</th>\n",
       "      <th>Crop</th>\n",
       "      <th>State      District                                       Arrivals       Min Price        Max Price         Modal Price      Reported</th>\n",
       "      <th>State      District                                        Arrivals       Min Price        Max Price         Modal Price      Reported</th>\n",
       "    </tr>\n",
       "  </thead>\n",
       "  <tbody>\n",
       "    <tr>\n",
       "      <th>0</th>\n",
       "      <td>Madhya Pradesh</td>\n",
       "      <td>Bhopal</td>\n",
       "      <td>Bhopal(F&amp;V)</td>\n",
       "      <td>Other</td>\n",
       "      <td>Fruits</td>\n",
       "      <td>4.0</td>\n",
       "      <td>800.0</td>\n",
       "      <td>1200.0</td>\n",
       "      <td>1000.0</td>\n",
       "      <td>2023-06-22</td>\n",
       "      <td>Karbuja</td>\n",
       "      <td>NaN</td>\n",
       "      <td>NaN</td>\n",
       "    </tr>\n",
       "    <tr>\n",
       "      <th>1</th>\n",
       "      <td>Madhya Pradesh</td>\n",
       "      <td>Bhopal</td>\n",
       "      <td>Bhopal(F&amp;V)</td>\n",
       "      <td>Other</td>\n",
       "      <td>Fruits</td>\n",
       "      <td>12.0</td>\n",
       "      <td>600.0</td>\n",
       "      <td>1000.0</td>\n",
       "      <td>800.0</td>\n",
       "      <td>2023-06-15</td>\n",
       "      <td>Karbuja</td>\n",
       "      <td>NaN</td>\n",
       "      <td>NaN</td>\n",
       "    </tr>\n",
       "    <tr>\n",
       "      <th>2</th>\n",
       "      <td>Madhya Pradesh</td>\n",
       "      <td>Bhopal</td>\n",
       "      <td>Bhopal(F&amp;V)</td>\n",
       "      <td>Other</td>\n",
       "      <td>Fruits</td>\n",
       "      <td>11.0</td>\n",
       "      <td>600.0</td>\n",
       "      <td>1000.0</td>\n",
       "      <td>800.0</td>\n",
       "      <td>2023-06-14</td>\n",
       "      <td>Karbuja</td>\n",
       "      <td>NaN</td>\n",
       "      <td>NaN</td>\n",
       "    </tr>\n",
       "    <tr>\n",
       "      <th>3</th>\n",
       "      <td>Madhya Pradesh</td>\n",
       "      <td>Bhopal</td>\n",
       "      <td>Bhopal(F&amp;V)</td>\n",
       "      <td>Other</td>\n",
       "      <td>Fruits</td>\n",
       "      <td>5.0</td>\n",
       "      <td>600.0</td>\n",
       "      <td>1000.0</td>\n",
       "      <td>800.0</td>\n",
       "      <td>2023-06-13</td>\n",
       "      <td>Karbuja</td>\n",
       "      <td>NaN</td>\n",
       "      <td>NaN</td>\n",
       "    </tr>\n",
       "    <tr>\n",
       "      <th>4</th>\n",
       "      <td>Madhya Pradesh</td>\n",
       "      <td>Bhopal</td>\n",
       "      <td>Bhopal(F&amp;V)</td>\n",
       "      <td>Other</td>\n",
       "      <td>Fruits</td>\n",
       "      <td>2.0</td>\n",
       "      <td>600.0</td>\n",
       "      <td>1000.0</td>\n",
       "      <td>800.0</td>\n",
       "      <td>2023-06-12</td>\n",
       "      <td>Karbuja</td>\n",
       "      <td>NaN</td>\n",
       "      <td>NaN</td>\n",
       "    </tr>\n",
       "  </tbody>\n",
       "</table>\n",
       "</div>"
      ],
      "text/plain": [
       "       State Name District Name  Market Name Variety   Group  \\\n",
       "0  Madhya Pradesh        Bhopal  Bhopal(F&V)   Other  Fruits   \n",
       "1  Madhya Pradesh        Bhopal  Bhopal(F&V)   Other  Fruits   \n",
       "2  Madhya Pradesh        Bhopal  Bhopal(F&V)   Other  Fruits   \n",
       "3  Madhya Pradesh        Bhopal  Bhopal(F&V)   Other  Fruits   \n",
       "4  Madhya Pradesh        Bhopal  Bhopal(F&V)   Other  Fruits   \n",
       "\n",
       "  Arrivals (Tonnes)  Min Price (Rs./Quintal)  Max Price (Rs./Quintal)  \\\n",
       "0               4.0                    800.0                   1200.0   \n",
       "1              12.0                    600.0                   1000.0   \n",
       "2              11.0                    600.0                   1000.0   \n",
       "3               5.0                    600.0                   1000.0   \n",
       "4               2.0                    600.0                   1000.0   \n",
       "\n",
       "   Modal Price (Rs./Quintal) Reported Date     Crop  \\\n",
       "0                     1000.0    2023-06-22  Karbuja   \n",
       "1                      800.0    2023-06-15  Karbuja   \n",
       "2                      800.0    2023-06-14  Karbuja   \n",
       "3                      800.0    2023-06-13  Karbuja   \n",
       "4                      800.0    2023-06-12  Karbuja   \n",
       "\n",
       "  State      District                                       Arrivals       Min Price        Max Price         Modal Price      Reported  \\\n",
       "0                                                NaN                                                                                      \n",
       "1                                                NaN                                                                                      \n",
       "2                                                NaN                                                                                      \n",
       "3                                                NaN                                                                                      \n",
       "4                                                NaN                                                                                      \n",
       "\n",
       "  State      District                                        Arrivals       Min Price        Max Price         Modal Price      Reported  \n",
       "0                                                NaN                                                                                      \n",
       "1                                                NaN                                                                                      \n",
       "2                                                NaN                                                                                      \n",
       "3                                                NaN                                                                                      \n",
       "4                                                NaN                                                                                      "
      ]
     },
     "execution_count": 19,
     "metadata": {},
     "output_type": "execute_result"
    }
   ],
   "source": [
    "main_df.head()"
   ]
  },
  {
   "cell_type": "code",
   "execution_count": 20,
   "id": "5861bfa2-28d3-4677-b98f-27a3996e98d4",
   "metadata": {},
   "outputs": [
    {
     "data": {
      "text/plain": [
       "array(['Karbuja', 'Kartali', 'Kinnow', 'Kodo Millet(Varagu)',\n",
       "       'Kulthi(Horse Gram)', 'Lak(Teora)', 'Leafy Vegetable', 'Lemon',\n",
       "       'Lime', 'Little gourd (Kundru)', 'Mahua-Seed_Hippe-seed_', 'Mahua',\n",
       "       'Mango', 'Masur Dal', 'Mint(Pudina)', 'Mousambi(Sweet Lime)',\n",
       "       'Mustard Oil', 'Myrobolan(Harad)', 'Neem Seed', 'Orange',\n",
       "       'Paddy(Dhan)(Basmati)', 'Papaya (Raw)', 'Papaya', 'Pear(Marasebu)',\n",
       "       'Peas cod', 'Peas Wet'], dtype=object)"
      ]
     },
     "execution_count": 20,
     "metadata": {},
     "output_type": "execute_result"
    }
   ],
   "source": [
    "main_df['Crop'].unique()"
   ]
  },
  {
   "cell_type": "code",
   "execution_count": 22,
   "id": "40c24b17-8300-4544-856a-1a1ee41de81b",
   "metadata": {},
   "outputs": [
    {
     "data": {
      "text/plain": [
       "Index(['State Name', 'District Name', 'Market Name', 'Variety', 'Group',\n",
       "       'Arrivals (Tonnes)', 'Min Price (Rs./Quintal)',\n",
       "       'Max Price (Rs./Quintal)', 'Modal Price (Rs./Quintal)', 'Reported Date',\n",
       "       'Crop',\n",
       "       'State      District                                       Arrivals       Min Price        Max Price         Modal Price      Reported',\n",
       "       'State      District                                        Arrivals       Min Price        Max Price         Modal Price      Reported'],\n",
       "      dtype='object')"
      ]
     },
     "execution_count": 22,
     "metadata": {},
     "output_type": "execute_result"
    }
   ],
   "source": [
    "main_df.columns"
   ]
  },
  {
   "cell_type": "code",
   "execution_count": 24,
   "id": "a850b2d4-470c-4d44-8c6b-c27d3c46a01b",
   "metadata": {},
   "outputs": [
    {
     "data": {
      "text/plain": [
       "0       NaN\n",
       "1       NaN\n",
       "2       NaN\n",
       "3       NaN\n",
       "4       NaN\n",
       "       ... \n",
       "7376    NaN\n",
       "7377    NaN\n",
       "7378    NaN\n",
       "7379    NaN\n",
       "7380    NaN\n",
       "Name: State      District                                       Arrivals       Min Price        Max Price         Modal Price      Reported, Length: 86512, dtype: object"
      ]
     },
     "execution_count": 24,
     "metadata": {},
     "output_type": "execute_result"
    }
   ],
   "source": [
    "main_df.drop(columns = ['State      District                                       Arrivals       Min Price        Max Price         Modal Price      Reported'])"
   ]
  },
  {
   "cell_type": "code",
   "execution_count": null,
   "id": "853d3cbb-d260-4ad7-875c-5083bec43543",
   "metadata": {},
   "outputs": [],
   "source": []
  }
 ],
 "metadata": {
  "kernelspec": {
   "display_name": "My_Env",
   "language": "python",
   "name": "my_env"
  },
  "language_info": {
   "codemirror_mode": {
    "name": "ipython",
    "version": 3
   },
   "file_extension": ".py",
   "mimetype": "text/x-python",
   "name": "python",
   "nbconvert_exporter": "python",
   "pygments_lexer": "ipython3",
   "version": "3.12.0"
  }
 },
 "nbformat": 4,
 "nbformat_minor": 5
}
