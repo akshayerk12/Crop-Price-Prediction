{
 "cells": [
  {
   "cell_type": "code",
   "execution_count": 1,
   "id": "3250ba93-b3ec-4b76-97ba-fcbbf5882f66",
   "metadata": {},
   "outputs": [],
   "source": [
    "import pandas as pd\n",
    "import os"
   ]
  },
  {
   "cell_type": "code",
   "execution_count": 37,
   "id": "9ada46c2-4682-402e-a62b-5947d64d3ebf",
   "metadata": {},
   "outputs": [],
   "source": [
    "folder_path = \"dataset xlsx\""
   ]
  },
  {
   "cell_type": "code",
   "execution_count": 38,
   "id": "af654dc8-775d-45b3-9270-13587c65101e",
   "metadata": {},
   "outputs": [],
   "source": [
    "file_list = [f for f in os.listdir(folder_path) if f.endswith('.xlsx')]"
   ]
  },
  {
   "cell_type": "code",
   "execution_count": 84,
   "id": "80093268-acb7-4a4c-8f44-fd5058a65920",
   "metadata": {},
   "outputs": [],
   "source": [
    "# dataframes = {}\n",
    "main_df = pd.DataFrame()\n",
    "i = 0\n",
    "for file in file_list:\n",
    "    file_path = os.path.join(folder_path, file)\n",
    "    df_name = 'df' + str(i)  # This will create names like 'df0', 'df1', etc.\n",
    "    df = pd.read_excel(file_path, header=1)\n",
    "    crop_name = file[:-5]   # Assuming file names end with '.xlsx'\n",
    "    df['Crop'] = crop_name  # Add a column with the crop name from the file name\n",
    "    main_df = pd.concat([main_df, df], axis= 0, ignore_index= True) \n",
    "    i += 1"
   ]
  },
  {
   "cell_type": "code",
   "execution_count": 85,
   "id": "1034b33d-d4ce-494d-b4aa-587f67766c97",
   "metadata": {},
   "outputs": [
    {
     "data": {
      "text/html": [
       "<div>\n",
       "<style scoped>\n",
       "    .dataframe tbody tr th:only-of-type {\n",
       "        vertical-align: middle;\n",
       "    }\n",
       "\n",
       "    .dataframe tbody tr th {\n",
       "        vertical-align: top;\n",
       "    }\n",
       "\n",
       "    .dataframe thead th {\n",
       "        text-align: right;\n",
       "    }\n",
       "</style>\n",
       "<table border=\"1\" class=\"dataframe\">\n",
       "  <thead>\n",
       "    <tr style=\"text-align: right;\">\n",
       "      <th></th>\n",
       "      <th>State Name</th>\n",
       "      <th>District Name</th>\n",
       "      <th>Market Name</th>\n",
       "      <th>Variety</th>\n",
       "      <th>Group</th>\n",
       "      <th>Arrivals (Tonnes)</th>\n",
       "      <th>Min Price (Rs./Quintal)</th>\n",
       "      <th>Max Price (Rs./Quintal)</th>\n",
       "      <th>Modal Price (Rs./Quintal)</th>\n",
       "      <th>Reported Date</th>\n",
       "      <th>Crop</th>\n",
       "    </tr>\n",
       "  </thead>\n",
       "  <tbody>\n",
       "    <tr>\n",
       "      <th>71815</th>\n",
       "      <td>Madhya Pradesh</td>\n",
       "      <td>Ujjain</td>\n",
       "      <td>Ujjain(F&amp;V)</td>\n",
       "      <td>Peas Wet</td>\n",
       "      <td>Vegetables</td>\n",
       "      <td>1.3</td>\n",
       "      <td>800.0</td>\n",
       "      <td>1700.0</td>\n",
       "      <td>1300.0</td>\n",
       "      <td>2018-01-05</td>\n",
       "      <td>Peas Wet</td>\n",
       "    </tr>\n",
       "    <tr>\n",
       "      <th>71816</th>\n",
       "      <td>Madhya Pradesh</td>\n",
       "      <td>Ujjain</td>\n",
       "      <td>Ujjain(F&amp;V)</td>\n",
       "      <td>Peas Wet</td>\n",
       "      <td>Vegetables</td>\n",
       "      <td>1.5</td>\n",
       "      <td>800.0</td>\n",
       "      <td>2000.0</td>\n",
       "      <td>1300.0</td>\n",
       "      <td>2018-01-04</td>\n",
       "      <td>Peas Wet</td>\n",
       "    </tr>\n",
       "    <tr>\n",
       "      <th>71817</th>\n",
       "      <td>Madhya Pradesh</td>\n",
       "      <td>Ujjain</td>\n",
       "      <td>Ujjain(F&amp;V)</td>\n",
       "      <td>Peas Wet</td>\n",
       "      <td>Vegetables</td>\n",
       "      <td>1.5</td>\n",
       "      <td>800.0</td>\n",
       "      <td>1700.0</td>\n",
       "      <td>1300.0</td>\n",
       "      <td>2018-01-03</td>\n",
       "      <td>Peas Wet</td>\n",
       "    </tr>\n",
       "    <tr>\n",
       "      <th>71818</th>\n",
       "      <td>Madhya Pradesh</td>\n",
       "      <td>Ujjain</td>\n",
       "      <td>Ujjain(F&amp;V)</td>\n",
       "      <td>Peas Wet</td>\n",
       "      <td>Vegetables</td>\n",
       "      <td>1.0</td>\n",
       "      <td>800.0</td>\n",
       "      <td>1600.0</td>\n",
       "      <td>1400.0</td>\n",
       "      <td>2018-01-02</td>\n",
       "      <td>Peas Wet</td>\n",
       "    </tr>\n",
       "    <tr>\n",
       "      <th>71819</th>\n",
       "      <td>Madhya Pradesh</td>\n",
       "      <td>Ujjain</td>\n",
       "      <td>Ujjain(F&amp;V)</td>\n",
       "      <td>Peas Wet</td>\n",
       "      <td>Vegetables</td>\n",
       "      <td>1.2</td>\n",
       "      <td>800.0</td>\n",
       "      <td>1700.0</td>\n",
       "      <td>1400.0</td>\n",
       "      <td>2018-01-01</td>\n",
       "      <td>Peas Wet</td>\n",
       "    </tr>\n",
       "  </tbody>\n",
       "</table>\n",
       "</div>"
      ],
      "text/plain": [
       "           State Name District Name  Market Name   Variety       Group  \\\n",
       "71815  Madhya Pradesh        Ujjain  Ujjain(F&V)  Peas Wet  Vegetables   \n",
       "71816  Madhya Pradesh        Ujjain  Ujjain(F&V)  Peas Wet  Vegetables   \n",
       "71817  Madhya Pradesh        Ujjain  Ujjain(F&V)  Peas Wet  Vegetables   \n",
       "71818  Madhya Pradesh        Ujjain  Ujjain(F&V)  Peas Wet  Vegetables   \n",
       "71819  Madhya Pradesh        Ujjain  Ujjain(F&V)  Peas Wet  Vegetables   \n",
       "\n",
       "      Arrivals (Tonnes)  Min Price (Rs./Quintal)  Max Price (Rs./Quintal)  \\\n",
       "71815               1.3                    800.0                   1700.0   \n",
       "71816               1.5                    800.0                   2000.0   \n",
       "71817               1.5                    800.0                   1700.0   \n",
       "71818               1.0                    800.0                   1600.0   \n",
       "71819               1.2                    800.0                   1700.0   \n",
       "\n",
       "       Modal Price (Rs./Quintal) Reported Date      Crop  \n",
       "71815                     1300.0    2018-01-05  Peas Wet  \n",
       "71816                     1300.0    2018-01-04  Peas Wet  \n",
       "71817                     1300.0    2018-01-03  Peas Wet  \n",
       "71818                     1400.0    2018-01-02  Peas Wet  \n",
       "71819                     1400.0    2018-01-01  Peas Wet  "
      ]
     },
     "execution_count": 85,
     "metadata": {},
     "output_type": "execute_result"
    }
   ],
   "source": [
    "main_df.tail()"
   ]
  },
  {
   "cell_type": "code",
   "execution_count": 86,
   "id": "5861bfa2-28d3-4677-b98f-27a3996e98d4",
   "metadata": {},
   "outputs": [
    {
     "data": {
      "text/plain": [
       "array(['Karbuja', 'Kartali', 'Kinnow', 'Kodo Millet(Varagu)',\n",
       "       'Kulthi(Horse Gram)', 'Lak(Teora)', 'Leafy Vegetable', 'Lemon',\n",
       "       'Lime', 'Little gourd (Kundru)', 'Mango', 'Masur Dal',\n",
       "       'Mint(Pudina)', 'Mousambi(Sweet Lime)', 'Mustard Oil',\n",
       "       'Myrobolan(Harad)', 'Neem Seed', 'Orange', 'Paddy(Dhan)(Basmati)',\n",
       "       'Papaya (Raw)', 'Papaya', 'Pear(Marasebu)', 'Peas cod', 'Peas Wet'],\n",
       "      dtype=object)"
      ]
     },
     "execution_count": 86,
     "metadata": {},
     "output_type": "execute_result"
    }
   ],
   "source": [
    "main_df['Crop'].unique()"
   ]
  },
  {
   "cell_type": "code",
   "execution_count": 87,
   "id": "40c24b17-8300-4544-856a-1a1ee41de81b",
   "metadata": {},
   "outputs": [
    {
     "data": {
      "text/plain": [
       "Index(['State Name', 'District Name', 'Market Name', 'Variety', 'Group',\n",
       "       'Arrivals (Tonnes)', 'Min Price (Rs./Quintal)',\n",
       "       'Max Price (Rs./Quintal)', 'Modal Price (Rs./Quintal)', 'Reported Date',\n",
       "       'Crop'],\n",
       "      dtype='object')"
      ]
     },
     "execution_count": 87,
     "metadata": {},
     "output_type": "execute_result"
    }
   ],
   "source": [
    "main_df.columns"
   ]
  },
  {
   "cell_type": "code",
   "execution_count": 88,
   "id": "a850b2d4-470c-4d44-8c6b-c27d3c46a01b",
   "metadata": {},
   "outputs": [],
   "source": [
    "main_df.drop(columns='State Name', inplace = True)"
   ]
  },
  {
   "cell_type": "code",
   "execution_count": 89,
   "id": "853d3cbb-d260-4ad7-875c-5083bec43543",
   "metadata": {},
   "outputs": [
    {
     "name": "stdout",
     "output_type": "stream",
     "text": [
      "<class 'pandas.core.frame.DataFrame'>\n",
      "RangeIndex: 71820 entries, 0 to 71819\n",
      "Data columns (total 10 columns):\n",
      " #   Column                     Non-Null Count  Dtype         \n",
      "---  ------                     --------------  -----         \n",
      " 0   District Name              71820 non-null  object        \n",
      " 1   Market Name                71820 non-null  object        \n",
      " 2   Variety                    71820 non-null  object        \n",
      " 3   Group                      71820 non-null  object        \n",
      " 4   Arrivals (Tonnes)          68349 non-null  object        \n",
      " 5   Min Price (Rs./Quintal)    71820 non-null  float64       \n",
      " 6   Max Price (Rs./Quintal)    71820 non-null  float64       \n",
      " 7   Modal Price (Rs./Quintal)  71820 non-null  float64       \n",
      " 8   Reported Date              71820 non-null  datetime64[ns]\n",
      " 9   Crop                       71820 non-null  object        \n",
      "dtypes: datetime64[ns](1), float64(3), object(6)\n",
      "memory usage: 5.5+ MB\n"
     ]
    }
   ],
   "source": [
    "main_df.info()"
   ]
  },
  {
   "cell_type": "code",
   "execution_count": 90,
   "id": "3408747b-d991-4c97-8cde-f74f9bc24c3b",
   "metadata": {},
   "outputs": [
    {
     "data": {
      "text/plain": [
       "District Name                   0\n",
       "Market Name                     0\n",
       "Variety                         0\n",
       "Group                           0\n",
       "Arrivals (Tonnes)            3471\n",
       "Min Price (Rs./Quintal)         0\n",
       "Max Price (Rs./Quintal)         0\n",
       "Modal Price (Rs./Quintal)       0\n",
       "Reported Date                   0\n",
       "Crop                            0\n",
       "dtype: int64"
      ]
     },
     "execution_count": 90,
     "metadata": {},
     "output_type": "execute_result"
    }
   ],
   "source": [
    "main_df.isna().sum()"
   ]
  },
  {
   "cell_type": "code",
   "execution_count": null,
   "id": "4518c199-d321-4ffb-9dd7-2a655fe54baa",
   "metadata": {},
   "outputs": [],
   "source": []
  },
  {
   "cell_type": "code",
   "execution_count": 91,
   "id": "6b731eb8-5c6e-4add-a92b-c9edd5822e8f",
   "metadata": {},
   "outputs": [],
   "source": [
    "# main_df['Arrivals (Tonnes)']=main_df['Arrivals (Tonnes)']"
   ]
  },
  {
   "cell_type": "code",
   "execution_count": 92,
   "id": "7549f4b8-7144-427d-a1e6-27cabbb001d7",
   "metadata": {},
   "outputs": [],
   "source": [
    "def Arrivals_column_cleaning(df, col): # dtype was object, so to change to float\n",
    "\n",
    "        def clean(arrival):\n",
    "            if isinstance(arrival, str):\n",
    "                return arrival.replace(',', '')\n",
    "            else:\n",
    "                return arrival\n",
    "        df[col]=df[col].apply(clean)\n",
    "        \n",
    "        # df[col]=df[col].str.replace(',','')\n",
    "        df[col]=df[col].astype(float)\n",
    "        return df[col]"
   ]
  },
  {
   "cell_type": "code",
   "execution_count": 93,
   "id": "e17ee1f0-7b5f-4a52-9439-4872a2b9bb8a",
   "metadata": {},
   "outputs": [],
   "source": [
    "main_df['Arrivals (Tonnes)'] = Arrivals_column_cleaning(main_df, 'Arrivals (Tonnes)')"
   ]
  },
  {
   "cell_type": "code",
   "execution_count": 94,
   "id": "804e7cb3-4caf-4895-8d88-e0711ad3ba20",
   "metadata": {},
   "outputs": [
    {
     "name": "stdout",
     "output_type": "stream",
     "text": [
      "<class 'pandas.core.frame.DataFrame'>\n",
      "RangeIndex: 71820 entries, 0 to 71819\n",
      "Data columns (total 10 columns):\n",
      " #   Column                     Non-Null Count  Dtype         \n",
      "---  ------                     --------------  -----         \n",
      " 0   District Name              71820 non-null  object        \n",
      " 1   Market Name                71820 non-null  object        \n",
      " 2   Variety                    71820 non-null  object        \n",
      " 3   Group                      71820 non-null  object        \n",
      " 4   Arrivals (Tonnes)          68349 non-null  float64       \n",
      " 5   Min Price (Rs./Quintal)    71820 non-null  float64       \n",
      " 6   Max Price (Rs./Quintal)    71820 non-null  float64       \n",
      " 7   Modal Price (Rs./Quintal)  71820 non-null  float64       \n",
      " 8   Reported Date              71820 non-null  datetime64[ns]\n",
      " 9   Crop                       71820 non-null  object        \n",
      "dtypes: datetime64[ns](1), float64(4), object(5)\n",
      "memory usage: 5.5+ MB\n"
     ]
    }
   ],
   "source": [
    "main_df.info()"
   ]
  },
  {
   "cell_type": "code",
   "execution_count": 95,
   "id": "4b7c5c7a-ed59-4307-b314-8099d96045f7",
   "metadata": {},
   "outputs": [],
   "source": [
    "main_df['Arrivals (Tonnes)']=main_df['Arrivals (Tonnes)']*9"
   ]
  },
  {
   "cell_type": "code",
   "execution_count": null,
   "id": "5db493a7-86c3-4bd7-819f-7a2b6bad7992",
   "metadata": {},
   "outputs": [],
   "source": []
  },
  {
   "cell_type": "code",
   "execution_count": null,
   "id": "a7b161a5-975a-4247-8bea-538494a647cb",
   "metadata": {},
   "outputs": [],
   "source": []
  },
  {
   "cell_type": "code",
   "execution_count": 53,
   "id": "dacb8fff-5b09-4b2a-b56f-4638bed30e5d",
   "metadata": {},
   "outputs": [],
   "source": [
    "main_df.to_csv('final_crop_dataset.csv', index=False)"
   ]
  },
  {
   "cell_type": "code",
   "execution_count": null,
   "id": "a2c043c0-1f70-48d1-90af-eb4d8b79096e",
   "metadata": {},
   "outputs": [],
   "source": []
  }
 ],
 "metadata": {
  "kernelspec": {
   "display_name": "My_Env",
   "language": "python",
   "name": "my_env"
  },
  "language_info": {
   "codemirror_mode": {
    "name": "ipython",
    "version": 3
   },
   "file_extension": ".py",
   "mimetype": "text/x-python",
   "name": "python",
   "nbconvert_exporter": "python",
   "pygments_lexer": "ipython3",
   "version": "3.12.0"
  }
 },
 "nbformat": 4,
 "nbformat_minor": 5
}
