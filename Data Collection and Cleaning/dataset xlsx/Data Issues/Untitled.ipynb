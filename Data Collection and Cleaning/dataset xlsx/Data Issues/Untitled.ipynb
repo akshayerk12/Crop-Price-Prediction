{
 "cells": [
  {
   "cell_type": "code",
   "execution_count": 1,
   "id": "dfed3711-adc4-4a6b-b9dc-141bd256dee1",
   "metadata": {},
   "outputs": [],
   "source": [
    "import pandas as pd"
   ]
  },
  {
   "cell_type": "code",
   "execution_count": 7,
   "id": "eed59728-5167-4281-89d8-7194ef36489a",
   "metadata": {},
   "outputs": [
    {
     "data": {
      "text/html": [
       "<div>\n",
       "<style scoped>\n",
       "    .dataframe tbody tr th:only-of-type {\n",
       "        vertical-align: middle;\n",
       "    }\n",
       "\n",
       "    .dataframe tbody tr th {\n",
       "        vertical-align: top;\n",
       "    }\n",
       "\n",
       "    .dataframe thead th {\n",
       "        text-align: right;\n",
       "    }\n",
       "</style>\n",
       "<table border=\"1\" class=\"dataframe\">\n",
       "  <thead>\n",
       "    <tr style=\"text-align: right;\">\n",
       "      <th></th>\n",
       "      <th>State     District                                       Arrivals       Min Price        Max Price         Modal Price      Reported</th>\n",
       "    </tr>\n",
       "  </thead>\n",
       "  <tbody>\n",
       "    <tr>\n",
       "      <th>0</th>\n",
       "      <td>Market Name    Variety    Group</td>\n",
       "    </tr>\n",
       "    <tr>\n",
       "      <th>1</th>\n",
       "      <td>Name      Name                                ...</td>\n",
       "    </tr>\n",
       "    <tr>\n",
       "      <th>2</th>\n",
       "      <td>Madhya                                        ...</td>\n",
       "    </tr>\n",
       "    <tr>\n",
       "      <th>3</th>\n",
       "      <td>Bhopal        Bhopal(F&amp;V)    Other      Fruits...</td>\n",
       "    </tr>\n",
       "    <tr>\n",
       "      <th>4</th>\n",
       "      <td>Pradesh                                       ...</td>\n",
       "    </tr>\n",
       "    <tr>\n",
       "      <th>...</th>\n",
       "      <td>...</td>\n",
       "    </tr>\n",
       "    <tr>\n",
       "      <th>4443</th>\n",
       "      <td>Pradesh                        Apple          ...</td>\n",
       "    </tr>\n",
       "    <tr>\n",
       "      <th>4444</th>\n",
       "      <td>Madhya                         Pine           ...</td>\n",
       "    </tr>\n",
       "    <tr>\n",
       "      <th>4445</th>\n",
       "      <td>Ujjain   Ujjain(F&amp;V)           Fruits   0.02 3...</td>\n",
       "    </tr>\n",
       "    <tr>\n",
       "      <th>4446</th>\n",
       "      <td>Pradesh                        Apple          ...</td>\n",
       "    </tr>\n",
       "    <tr>\n",
       "      <th>4447</th>\n",
       "      <td>_x000C_</td>\n",
       "    </tr>\n",
       "  </tbody>\n",
       "</table>\n",
       "<p>4448 rows × 1 columns</p>\n",
       "</div>"
      ],
      "text/plain": [
       "     State     District                                       Arrivals       Min Price        Max Price         Modal Price      Reported\n",
       "0                       Market Name    Variety    Group                                                                                  \n",
       "1     Name      Name                                ...                                                                                  \n",
       "2     Madhya                                        ...                                                                                  \n",
       "3     Bhopal        Bhopal(F&V)    Other      Fruits...                                                                                  \n",
       "4     Pradesh                                       ...                                                                                  \n",
       "...                                                 ...                                                                                  \n",
       "4443  Pradesh                        Apple          ...                                                                                  \n",
       "4444  Madhya                         Pine           ...                                                                                  \n",
       "4445  Ujjain   Ujjain(F&V)           Fruits   0.02 3...                                                                                  \n",
       "4446  Pradesh                        Apple          ...                                                                                  \n",
       "4447                                            _x000C_                                                                                  \n",
       "\n",
       "[4448 rows x 1 columns]"
      ]
     },
     "execution_count": 7,
     "metadata": {},
     "output_type": "execute_result"
    }
   ],
   "source": [
    "df=pd.read_excel('Pineapple.xlsx', header=1)\n",
    "df"
   ]
  },
  {
   "cell_type": "code",
   "execution_count": null,
   "id": "79fa1973-ffe2-432a-b224-e429e80e8e6c",
   "metadata": {},
   "outputs": [],
   "source": []
  }
 ],
 "metadata": {
  "kernelspec": {
   "display_name": "My_Env",
   "language": "python",
   "name": "my_env"
  },
  "language_info": {
   "codemirror_mode": {
    "name": "ipython",
    "version": 3
   },
   "file_extension": ".py",
   "mimetype": "text/x-python",
   "name": "python",
   "nbconvert_exporter": "python",
   "pygments_lexer": "ipython3",
   "version": "3.12.0"
  }
 },
 "nbformat": 4,
 "nbformat_minor": 5
}
