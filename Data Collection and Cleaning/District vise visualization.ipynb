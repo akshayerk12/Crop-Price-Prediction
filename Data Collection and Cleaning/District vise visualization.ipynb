{
 "cells": [
  {
   "cell_type": "code",
   "execution_count": 1,
   "id": "948d51ed-e49e-402f-bdd8-e6e3f0d5a3ec",
   "metadata": {},
   "outputs": [],
   "source": [
    "import pandas as pd"
   ]
  },
  {
   "cell_type": "code",
   "execution_count": 3,
   "id": "41adf129-9eee-4bf8-a122-4fd5691b6ecc",
   "metadata": {},
   "outputs": [
    {
     "data": {
      "text/html": [
       "<div>\n",
       "<style scoped>\n",
       "    .dataframe tbody tr th:only-of-type {\n",
       "        vertical-align: middle;\n",
       "    }\n",
       "\n",
       "    .dataframe tbody tr th {\n",
       "        vertical-align: top;\n",
       "    }\n",
       "\n",
       "    .dataframe thead th {\n",
       "        text-align: right;\n",
       "    }\n",
       "</style>\n",
       "<table border=\"1\" class=\"dataframe\">\n",
       "  <thead>\n",
       "    <tr style=\"text-align: right;\">\n",
       "      <th></th>\n",
       "      <th>District Name</th>\n",
       "      <th>Market Name</th>\n",
       "      <th>Variety</th>\n",
       "      <th>Group</th>\n",
       "      <th>Arrivals (Tonnes)</th>\n",
       "      <th>Min Price (Rs./Quintal)</th>\n",
       "      <th>Max Price (Rs./Quintal)</th>\n",
       "      <th>Modal Price (Rs./Quintal)</th>\n",
       "      <th>Reported Date</th>\n",
       "      <th>Crop</th>\n",
       "    </tr>\n",
       "  </thead>\n",
       "  <tbody>\n",
       "    <tr>\n",
       "      <th>0</th>\n",
       "      <td>Bhopal</td>\n",
       "      <td>Bhopal(F&amp;V)</td>\n",
       "      <td>Other</td>\n",
       "      <td>Fruits</td>\n",
       "      <td>36.0</td>\n",
       "      <td>800.0</td>\n",
       "      <td>1200.0</td>\n",
       "      <td>1000.0</td>\n",
       "      <td>2023-06-22</td>\n",
       "      <td>Karbuja</td>\n",
       "    </tr>\n",
       "    <tr>\n",
       "      <th>1</th>\n",
       "      <td>Bhopal</td>\n",
       "      <td>Bhopal(F&amp;V)</td>\n",
       "      <td>Other</td>\n",
       "      <td>Fruits</td>\n",
       "      <td>108.0</td>\n",
       "      <td>600.0</td>\n",
       "      <td>1000.0</td>\n",
       "      <td>800.0</td>\n",
       "      <td>2023-06-15</td>\n",
       "      <td>Karbuja</td>\n",
       "    </tr>\n",
       "    <tr>\n",
       "      <th>2</th>\n",
       "      <td>Bhopal</td>\n",
       "      <td>Bhopal(F&amp;V)</td>\n",
       "      <td>Other</td>\n",
       "      <td>Fruits</td>\n",
       "      <td>99.0</td>\n",
       "      <td>600.0</td>\n",
       "      <td>1000.0</td>\n",
       "      <td>800.0</td>\n",
       "      <td>2023-06-14</td>\n",
       "      <td>Karbuja</td>\n",
       "    </tr>\n",
       "    <tr>\n",
       "      <th>3</th>\n",
       "      <td>Bhopal</td>\n",
       "      <td>Bhopal(F&amp;V)</td>\n",
       "      <td>Other</td>\n",
       "      <td>Fruits</td>\n",
       "      <td>45.0</td>\n",
       "      <td>600.0</td>\n",
       "      <td>1000.0</td>\n",
       "      <td>800.0</td>\n",
       "      <td>2023-06-13</td>\n",
       "      <td>Karbuja</td>\n",
       "    </tr>\n",
       "    <tr>\n",
       "      <th>4</th>\n",
       "      <td>Bhopal</td>\n",
       "      <td>Bhopal(F&amp;V)</td>\n",
       "      <td>Other</td>\n",
       "      <td>Fruits</td>\n",
       "      <td>18.0</td>\n",
       "      <td>600.0</td>\n",
       "      <td>1000.0</td>\n",
       "      <td>800.0</td>\n",
       "      <td>2023-06-12</td>\n",
       "      <td>Karbuja</td>\n",
       "    </tr>\n",
       "  </tbody>\n",
       "</table>\n",
       "</div>"
      ],
      "text/plain": [
       "  District Name  Market Name Variety   Group  Arrivals (Tonnes)  \\\n",
       "0        Bhopal  Bhopal(F&V)   Other  Fruits               36.0   \n",
       "1        Bhopal  Bhopal(F&V)   Other  Fruits              108.0   \n",
       "2        Bhopal  Bhopal(F&V)   Other  Fruits               99.0   \n",
       "3        Bhopal  Bhopal(F&V)   Other  Fruits               45.0   \n",
       "4        Bhopal  Bhopal(F&V)   Other  Fruits               18.0   \n",
       "\n",
       "   Min Price (Rs./Quintal)  Max Price (Rs./Quintal)  \\\n",
       "0                    800.0                   1200.0   \n",
       "1                    600.0                   1000.0   \n",
       "2                    600.0                   1000.0   \n",
       "3                    600.0                   1000.0   \n",
       "4                    600.0                   1000.0   \n",
       "\n",
       "   Modal Price (Rs./Quintal) Reported Date     Crop  \n",
       "0                     1000.0    2023-06-22  Karbuja  \n",
       "1                      800.0    2023-06-15  Karbuja  \n",
       "2                      800.0    2023-06-14  Karbuja  \n",
       "3                      800.0    2023-06-13  Karbuja  \n",
       "4                      800.0    2023-06-12  Karbuja  "
      ]
     },
     "execution_count": 3,
     "metadata": {},
     "output_type": "execute_result"
    }
   ],
   "source": [
    "df=pd.read_csv('final_crop_dataset.csv')\n",
    "df.head()"
   ]
  },
  {
   "cell_type": "code",
   "execution_count": 5,
   "id": "8b47f883-0ebc-412e-b9a2-faf0f81594ed",
   "metadata": {},
   "outputs": [
    {
     "data": {
      "text/plain": [
       "array(['Karbuja', 'Kartali', 'Kinnow', 'Kodo Millet(Varagu)',\n",
       "       'Kulthi(Horse Gram)', 'Lak(Teora)', 'Leafy Vegetable', 'Lemon',\n",
       "       'Lime', 'Little gourd (Kundru)', 'Mango', 'Masur Dal',\n",
       "       'Mint(Pudina)', 'Mousambi(Sweet Lime)', 'Mustard Oil',\n",
       "       'Myrobolan(Harad)', 'Neem Seed', 'Orange', 'Paddy(Dhan)(Basmati)',\n",
       "       'Papaya (Raw)', 'Papaya', 'Pear(Marasebu)', 'Peas cod', 'Peas Wet'],\n",
       "      dtype=object)"
      ]
     },
     "execution_count": 5,
     "metadata": {},
     "output_type": "execute_result"
    }
   ],
   "source": [
    "df['Crop'].unique()"
   ]
  },
  {
   "cell_type": "code",
   "execution_count": 6,
   "id": "a134e0b7-a61a-4ed3-bca1-1179acb42726",
   "metadata": {},
   "outputs": [
    {
     "data": {
      "text/plain": [
       "array(['Bhopal', 'Burhanpur', 'Chhindwara', 'Narsinghpur', 'Guna',\n",
       "       'Harda', 'Indore', 'Hoshangabad', 'Katni', 'Gwalior', 'Morena',\n",
       "       'Jhabua', 'Satna', 'Badwani', 'Singroli', 'Sheopur', 'Ujjain',\n",
       "       'Anupur', 'Rewa', 'Balaghat', 'Shehdol', 'Mandla', 'Seoni',\n",
       "       'Dindori', 'Sidhi', 'Umariya', 'Panna', 'Khargone', 'Chhatarpur',\n",
       "       'Raisen', 'Dhar', 'Sagar', 'Sehore', 'Ratlam', 'Shivpuri',\n",
       "       'Khandwa', 'Mandsaur', 'Jabalpur', 'Ashoknagar', 'Vidisha',\n",
       "       'Bhind', 'Betul', 'Damoh', 'Rajgarh', 'Alirajpur', 'Datia',\n",
       "       'Shajapur', 'Dewas'], dtype=object)"
      ]
     },
     "execution_count": 6,
     "metadata": {},
     "output_type": "execute_result"
    }
   ],
   "source": [
    "df['District Name'].unique()"
   ]
  },
  {
   "cell_type": "code",
   "execution_count": null,
   "id": "f458c9d8-6aac-4037-ac61-88df305d6148",
   "metadata": {},
   "outputs": [],
   "source": []
  }
 ],
 "metadata": {
  "kernelspec": {
   "display_name": "My_Env",
   "language": "python",
   "name": "my_env"
  },
  "language_info": {
   "codemirror_mode": {
    "name": "ipython",
    "version": 3
   },
   "file_extension": ".py",
   "mimetype": "text/x-python",
   "name": "python",
   "nbconvert_exporter": "python",
   "pygments_lexer": "ipython3",
   "version": "3.12.0"
  }
 },
 "nbformat": 4,
 "nbformat_minor": 5
}
