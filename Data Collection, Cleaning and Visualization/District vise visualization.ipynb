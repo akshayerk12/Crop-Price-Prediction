{
 "cells": [
  {
   "cell_type": "code",
   "execution_count": 1,
   "id": "948d51ed-e49e-402f-bdd8-e6e3f0d5a3ec",
   "metadata": {},
   "outputs": [],
   "source": [
    "import pandas as pd\n",
    "import matplotlib.pyplot as plt\n",
    "import seaborn as sns"
   ]
  },
  {
   "cell_type": "code",
   "execution_count": 8,
   "id": "41adf129-9eee-4bf8-a122-4fd5691b6ecc",
   "metadata": {},
   "outputs": [
    {
     "data": {
      "text/html": [
       "<div>\n",
       "<style scoped>\n",
       "    .dataframe tbody tr th:only-of-type {\n",
       "        vertical-align: middle;\n",
       "    }\n",
       "\n",
       "    .dataframe tbody tr th {\n",
       "        vertical-align: top;\n",
       "    }\n",
       "\n",
       "    .dataframe thead th {\n",
       "        text-align: right;\n",
       "    }\n",
       "</style>\n",
       "<table border=\"1\" class=\"dataframe\">\n",
       "  <thead>\n",
       "    <tr style=\"text-align: right;\">\n",
       "      <th></th>\n",
       "      <th>District Name</th>\n",
       "      <th>Market Name</th>\n",
       "      <th>Variety</th>\n",
       "      <th>Group</th>\n",
       "      <th>Arrivals (Tonnes)</th>\n",
       "      <th>Min Price (Rs./Quintal)</th>\n",
       "      <th>Max Price (Rs./Quintal)</th>\n",
       "      <th>Modal Price (Rs./Quintal)</th>\n",
       "      <th>Reported Date</th>\n",
       "      <th>Crop</th>\n",
       "    </tr>\n",
       "  </thead>\n",
       "  <tbody>\n",
       "    <tr>\n",
       "      <th>0</th>\n",
       "      <td>Bhopal</td>\n",
       "      <td>Bhopal(F&amp;V)</td>\n",
       "      <td>Other</td>\n",
       "      <td>Fruits</td>\n",
       "      <td>36.0</td>\n",
       "      <td>800.0</td>\n",
       "      <td>1200.0</td>\n",
       "      <td>1000.0</td>\n",
       "      <td>2023-06-22</td>\n",
       "      <td>Karbuja</td>\n",
       "    </tr>\n",
       "    <tr>\n",
       "      <th>1</th>\n",
       "      <td>Bhopal</td>\n",
       "      <td>Bhopal(F&amp;V)</td>\n",
       "      <td>Other</td>\n",
       "      <td>Fruits</td>\n",
       "      <td>108.0</td>\n",
       "      <td>600.0</td>\n",
       "      <td>1000.0</td>\n",
       "      <td>800.0</td>\n",
       "      <td>2023-06-15</td>\n",
       "      <td>Karbuja</td>\n",
       "    </tr>\n",
       "    <tr>\n",
       "      <th>2</th>\n",
       "      <td>Bhopal</td>\n",
       "      <td>Bhopal(F&amp;V)</td>\n",
       "      <td>Other</td>\n",
       "      <td>Fruits</td>\n",
       "      <td>99.0</td>\n",
       "      <td>600.0</td>\n",
       "      <td>1000.0</td>\n",
       "      <td>800.0</td>\n",
       "      <td>2023-06-14</td>\n",
       "      <td>Karbuja</td>\n",
       "    </tr>\n",
       "    <tr>\n",
       "      <th>3</th>\n",
       "      <td>Bhopal</td>\n",
       "      <td>Bhopal(F&amp;V)</td>\n",
       "      <td>Other</td>\n",
       "      <td>Fruits</td>\n",
       "      <td>45.0</td>\n",
       "      <td>600.0</td>\n",
       "      <td>1000.0</td>\n",
       "      <td>800.0</td>\n",
       "      <td>2023-06-13</td>\n",
       "      <td>Karbuja</td>\n",
       "    </tr>\n",
       "    <tr>\n",
       "      <th>4</th>\n",
       "      <td>Bhopal</td>\n",
       "      <td>Bhopal(F&amp;V)</td>\n",
       "      <td>Other</td>\n",
       "      <td>Fruits</td>\n",
       "      <td>18.0</td>\n",
       "      <td>600.0</td>\n",
       "      <td>1000.0</td>\n",
       "      <td>800.0</td>\n",
       "      <td>2023-06-12</td>\n",
       "      <td>Karbuja</td>\n",
       "    </tr>\n",
       "  </tbody>\n",
       "</table>\n",
       "</div>"
      ],
      "text/plain": [
       "  District Name  Market Name Variety   Group  Arrivals (Tonnes)  \\\n",
       "0        Bhopal  Bhopal(F&V)   Other  Fruits               36.0   \n",
       "1        Bhopal  Bhopal(F&V)   Other  Fruits              108.0   \n",
       "2        Bhopal  Bhopal(F&V)   Other  Fruits               99.0   \n",
       "3        Bhopal  Bhopal(F&V)   Other  Fruits               45.0   \n",
       "4        Bhopal  Bhopal(F&V)   Other  Fruits               18.0   \n",
       "\n",
       "   Min Price (Rs./Quintal)  Max Price (Rs./Quintal)  \\\n",
       "0                    800.0                   1200.0   \n",
       "1                    600.0                   1000.0   \n",
       "2                    600.0                   1000.0   \n",
       "3                    600.0                   1000.0   \n",
       "4                    600.0                   1000.0   \n",
       "\n",
       "   Modal Price (Rs./Quintal) Reported Date     Crop  \n",
       "0                     1000.0    2023-06-22  Karbuja  \n",
       "1                      800.0    2023-06-15  Karbuja  \n",
       "2                      800.0    2023-06-14  Karbuja  \n",
       "3                      800.0    2023-06-13  Karbuja  \n",
       "4                      800.0    2023-06-12  Karbuja  "
      ]
     },
     "execution_count": 8,
     "metadata": {},
     "output_type": "execute_result"
    }
   ],
   "source": [
    "df=pd.read_csv('final_crop_dataset.csv')\n",
    "df.head()"
   ]
  },
  {
   "cell_type": "code",
   "execution_count": null,
   "id": "2ee3b561-b4bd-43f4-b670-fc177d859175",
   "metadata": {},
   "outputs": [],
   "source": [
    "df['Reported Date'] = pd.to_datetime(df['Reported Date'])"
   ]
  },
  {
   "cell_type": "code",
   "execution_count": 30,
   "id": "73e90ac0-f0a8-498f-b993-93091b3f1a71",
   "metadata": {},
   "outputs": [
    {
     "name": "stderr",
     "output_type": "stream",
     "text": [
      "E:\\my_env\\Lib\\site-packages\\numpy\\lib\\function_base.py:2897: RuntimeWarning: invalid value encountered in divide\n",
      "  c /= stddev[:, None]\n"
     ]
    },
    {
     "data": {
      "image/png": "[encoded data removed]",
      "text/plain": [
       "<Figure size 1800x500 with 1 Axes>"
      ]
     },
     "metadata": {},
     "output_type": "display_data"
    }
   ],
   "source": [
    "class Crop:\n",
    "    def __init__(self, df):\n",
    "        self.df = df\n",
    "        self.districts = df['District Name'].unique().tolist()\n",
    "        self.crops = df['Crop'].unique().tolist()\n",
    "        # print(self.crops)\n",
    "\n",
    "    def district_selection_crop_based(self, crop, year=None):\n",
    "        # if year is None:\n",
    "        #     year= df['Year'].unique().tolist()\n",
    "            \n",
    "        df_filt = self.df[self.df['Crop']==crop]\n",
    "        correlation_dict = {}\n",
    "        for district in df_filt['District Name'].unique().tolist():\n",
    "            \n",
    "            df_final = df_filt[df_filt['District Name']==district]\n",
    "            corr_val = df_final['Modal Price (Rs./Quintal)'].corr(df_final['Arrivals (Tonnes)'])\n",
    "            correlation_dict[district]=corr_val\n",
    "        correlation_dict = dict(sorted(correlation_dict.items(), key=lambda item:item[1], reverse=True))\n",
    "        # print(correlation_dict)\n",
    "        dist_names = list(correlation_dict.keys())\n",
    "        corr_values = list(correlation_dict.values())\n",
    "        plt.figure(figsize=(18,5))\n",
    "        sns.barplot(x = dist_names, y = corr_values)\n",
    "                \n",
    "                \n",
    "            \n",
    "            \n",
    "\n",
    "\n",
    "c=Crop(df)\n",
    "c.district_selection_crop_based('Karbuja')"
   ]
  },
  {
   "cell_type": "code",
   "execution_count": 25,
   "id": "b8738935-e5c8-4f14-90f4-7cd79692a8ca",
   "metadata": {},
   "outputs": [
    {
     "data": {
      "text/html": [
       "<div>\n",
       "<style scoped>\n",
       "    .dataframe tbody tr th:only-of-type {\n",
       "        vertical-align: middle;\n",
       "    }\n",
       "\n",
       "    .dataframe tbody tr th {\n",
       "        vertical-align: top;\n",
       "    }\n",
       "\n",
       "    .dataframe thead th {\n",
       "        text-align: right;\n",
       "    }\n",
       "</style>\n",
       "<table border=\"1\" class=\"dataframe\">\n",
       "  <thead>\n",
       "    <tr style=\"text-align: right;\">\n",
       "      <th></th>\n",
       "      <th>District Name</th>\n",
       "      <th>Market Name</th>\n",
       "      <th>Variety</th>\n",
       "      <th>Group</th>\n",
       "      <th>Arrivals (Tonnes)</th>\n",
       "      <th>Min Price (Rs./Quintal)</th>\n",
       "      <th>Max Price (Rs./Quintal)</th>\n",
       "      <th>Modal Price (Rs./Quintal)</th>\n",
       "      <th>Reported Date</th>\n",
       "      <th>Crop</th>\n",
       "    </tr>\n",
       "  </thead>\n",
       "  <tbody>\n",
       "    <tr>\n",
       "      <th>1283</th>\n",
       "      <td>Singroli</td>\n",
       "      <td>Singroli</td>\n",
       "      <td>Other</td>\n",
       "      <td>Fruits</td>\n",
       "      <td>6.3</td>\n",
       "      <td>2000.0</td>\n",
       "      <td>2000.0</td>\n",
       "      <td>2000.0</td>\n",
       "      <td>2023-04-10</td>\n",
       "      <td>Karbuja</td>\n",
       "    </tr>\n",
       "    <tr>\n",
       "      <th>1284</th>\n",
       "      <td>Singroli</td>\n",
       "      <td>Singroli</td>\n",
       "      <td>Karbhuja</td>\n",
       "      <td>Fruits</td>\n",
       "      <td>6.3</td>\n",
       "      <td>2000.0</td>\n",
       "      <td>2000.0</td>\n",
       "      <td>2000.0</td>\n",
       "      <td>2022-05-24</td>\n",
       "      <td>Karbuja</td>\n",
       "    </tr>\n",
       "  </tbody>\n",
       "</table>\n",
       "</div>"
      ],
      "text/plain": [
       "     District Name Market Name   Variety   Group  Arrivals (Tonnes)  \\\n",
       "1283      Singroli    Singroli     Other  Fruits                6.3   \n",
       "1284      Singroli    Singroli  Karbhuja  Fruits                6.3   \n",
       "\n",
       "      Min Price (Rs./Quintal)  Max Price (Rs./Quintal)  \\\n",
       "1283                   2000.0                   2000.0   \n",
       "1284                   2000.0                   2000.0   \n",
       "\n",
       "      Modal Price (Rs./Quintal) Reported Date     Crop  \n",
       "1283                     2000.0    2023-04-10  Karbuja  \n",
       "1284                     2000.0    2022-05-24  Karbuja  "
      ]
     },
     "execution_count": 25,
     "metadata": {},
     "output_type": "execute_result"
    }
   ],
   "source": [
    "df[(df['Crop']=='Karbuja') & (df['District Name']=='Singroli')]"
   ]
  },
  {
   "cell_type": "code",
   "execution_count": 9,
   "id": "8b47f883-0ebc-412e-b9a2-faf0f81594ed",
   "metadata": {},
   "outputs": [
    {
     "data": {
      "text/plain": [
       "array(['Karbuja', 'Kartali', 'Kinnow', 'Kodo Millet(Varagu)',\n",
       "       'Kulthi(Horse Gram)', 'Lak(Teora)', 'Leafy Vegetable', 'Lemon',\n",
       "       'Lime', 'Little gourd (Kundru)', 'Mango', 'Masur Dal',\n",
       "       'Mint(Pudina)', 'Mousambi(Sweet Lime)', 'Mustard Oil',\n",
       "       'Myrobolan(Harad)', 'Neem Seed', 'Orange', 'Paddy(Dhan)(Basmati)',\n",
       "       'Papaya (Raw)', 'Papaya', 'Pear(Marasebu)', 'Peas cod', 'Peas Wet'],\n",
       "      dtype=object)"
      ]
     },
     "execution_count": 9,
     "metadata": {},
     "output_type": "execute_result"
    }
   ],
   "source": [
    "df['Crop'].unique()"
   ]
  },
  {
   "cell_type": "code",
   "execution_count": 10,
   "id": "a134e0b7-a61a-4ed3-bca1-1179acb42726",
   "metadata": {},
   "outputs": [
    {
     "data": {
      "text/plain": [
       "array(['Bhopal', 'Burhanpur', 'Chhindwara', 'Narsinghpur', 'Guna',\n",
       "       'Harda', 'Indore', 'Hoshangabad', 'Katni', 'Gwalior', 'Morena',\n",
       "       'Jhabua', 'Satna', 'Badwani', 'Singroli', 'Sheopur', 'Ujjain',\n",
       "       'Anupur', 'Rewa', 'Balaghat', 'Shehdol', 'Mandla', 'Seoni',\n",
       "       'Dindori', 'Sidhi', 'Umariya', 'Panna', 'Khargone', 'Chhatarpur',\n",
       "       'Raisen', 'Dhar', 'Sagar', 'Sehore', 'Ratlam', 'Shivpuri',\n",
       "       'Khandwa', 'Mandsaur', 'Jabalpur', 'Ashoknagar', 'Vidisha',\n",
       "       'Bhind', 'Betul', 'Damoh', 'Rajgarh', 'Alirajpur', 'Datia',\n",
       "       'Shajapur', 'Dewas'], dtype=object)"
      ]
     },
     "execution_count": 10,
     "metadata": {},
     "output_type": "execute_result"
    }
   ],
   "source": [
    "df['District Name'].unique()"
   ]
  },
  {
   "cell_type": "code",
   "execution_count": 11,
   "id": "f458c9d8-6aac-4037-ac61-88df305d6148",
   "metadata": {},
   "outputs": [],
   "source": [
    "# df.set_index('Reported Date', inplace=True)\n",
    "\n"
   ]
  },
  {
   "cell_type": "code",
   "execution_count": 12,
   "id": "534df5c8-c79e-43be-9c32-c020dd83afdf",
   "metadata": {},
   "outputs": [],
   "source": [
    "def price_trend_districts(crop, district=None):\n",
    "    if district is None:\n",
    "        districts=df['District Name'].unique().tolist()\n",
    "\n",
    "    district_data = df[(df['Crop']==crop)]\n",
    "    sns.lineplot(district_data['Modal Price (Rs./Quintal)'])\n",
    "\n",
    "    plt.title(f\"Price Trend of {crop} in {district}\")\n",
    "    plt.xlabel(\"Date\")\n",
    "    plt.ylabel(\"Modal Price (Rs./Quintal)\")\n",
    "    plt.xticks(rotation=45)\n",
    "    plt.show()\n",
    "    # district_data['Modal Price (Rs./Quintal)'].plot()\n",
    "    # sns.lineplot(district_data['Modal Price (Rs./Quintal)'])\n",
    "\n",
    "    # plt.title(\"Price Trend by District\")\n",
    "    # plt.xlabel(\"Date\")\n",
    "    # plt.ylabel(\"Price\")\n",
    "    # plt.show()"
   ]
  },
  {
   "cell_type": "code",
   "execution_count": 7,
   "id": "3270aa7d-2bdf-4bf1-8500-4e93ea59b37e",
   "metadata": {},
   "outputs": [
    {
     "data": {
      "image/png": "[encoded data removed]",
      "text/plain": [
       "<Figure size 640x480 with 1 Axes>"
      ]
     },
     "metadata": {},
     "output_type": "display_data"
    }
   ],
   "source": [
    "price_trend_districts('Kartali')"
   ]
  },
  {
   "cell_type": "code",
   "execution_count": null,
   "id": "5c8cc10e-a302-4808-b83b-94f51c5a6aa5",
   "metadata": {},
   "outputs": [],
   "source": [
    "def district_selection()"
   ]
  },
  {
   "cell_type": "code",
   "execution_count": null,
   "id": "9ad9e2c1-695d-42dc-a86f-d12c1ef2cea2",
   "metadata": {},
   "outputs": [],
   "source": []
  },
  {
   "cell_type": "code",
   "execution_count": null,
   "id": "0bf9e387-883a-4ef6-8fd1-d00877277942",
   "metadata": {},
   "outputs": [],
   "source": []
  }
 ],
 "metadata": {
  "kernelspec": {
   "display_name": "My_Env",
   "language": "python",
   "name": "my_env"
  },
  "language_info": {
   "codemirror_mode": {
    "name": "ipython",
    "version": 3
   },
   "file_extension": ".py",
   "mimetype": "text/x-python",
   "name": "python",
   "nbconvert_exporter": "python",
   "pygments_lexer": "ipython3",
   "version": "3.12.0"
  }
 },
 "nbformat": 4,
 "nbformat_minor": 5
}
