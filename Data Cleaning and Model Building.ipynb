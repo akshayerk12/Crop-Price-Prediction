{
 "cells": [
  {
   "cell_type": "code",
   "execution_count": 1,
   "id": "f1cfe07b-4db4-413a-b5c8-95bde913b6b2",
   "metadata": {},
   "outputs": [],
   "source": [
    "import pandas as pd"
   ]
  },
  {
   "cell_type": "code",
   "execution_count": 23,
   "id": "20b1185f-3aaf-4e85-9b00-7e09feeb04e8",
   "metadata": {},
   "outputs": [
    {
     "name": "stdout",
     "output_type": "stream",
     "text": [
      "<class 'pandas.core.frame.DataFrame'>\n",
      "RangeIndex: 5773 entries, 0 to 5772\n",
      "Data columns (total 10 columns):\n",
      " #   Column                     Non-Null Count  Dtype         \n",
      "---  ------                     --------------  -----         \n",
      " 0   State Name                 5773 non-null   object        \n",
      " 1   District Name              5773 non-null   object        \n",
      " 2   Market Name                5773 non-null   object        \n",
      " 3   Variety                    5773 non-null   object        \n",
      " 4   Group                      5773 non-null   object        \n",
      " 5   Arrivals (Tonnes)          5762 non-null   float64       \n",
      " 6   Min Price (Rs./Quintal)    5773 non-null   int64         \n",
      " 7   Max Price (Rs./Quintal)    5773 non-null   int64         \n",
      " 8   Modal Price (Rs./Quintal)  5773 non-null   int64         \n",
      " 9   Reported Date              5773 non-null   datetime64[ns]\n",
      "dtypes: datetime64[ns](1), float64(1), int64(3), object(5)\n",
      "memory usage: 451.1+ KB\n"
     ]
    }
   ],
   "source": [
    "df=pd.read_excel(\"Agmarknet_Price_And_Arrival_Report (3).xlsx\", header=1) \n",
    "df1.info()"
   ]
  },
  {
   "cell_type": "code",
   "execution_count": null,
   "id": "79352b4a-cebc-48ef-9d00-b298be69dbf9",
   "metadata": {},
   "outputs": [],
   "source": []
  },
  {
   "cell_type": "code",
   "execution_count": 24,
   "id": "d6c907a2-503b-4596-a011-721f83e11d30",
   "metadata": {},
   "outputs": [],
   "source": [
    "class Crop_Price_Prediction:\n",
    "\n",
    "    def __init__(self, df):\n",
    "        self.df=df\n",
    "\n",
    "    def drop_columns(self, columns):\n",
    "        self.df.drop(columns=columns, inplace= True)\n",
    "\n",
    "\n",
    "cp=Crop_Price_Prediction(df)"
   ]
  },
  {
   "cell_type": "code",
   "execution_count": 25,
   "id": "a899b36b-013c-4d39-8e98-9e8a85d05347",
   "metadata": {},
   "outputs": [],
   "source": [
    "cp.drop_columns(['State Name', 'District Name']) #State and District is constant through out the project"
   ]
  },
  {
   "cell_type": "code",
   "execution_count": null,
   "id": "d20a0b25-2fbf-45ac-8eec-e424c4d77667",
   "metadata": {},
   "outputs": [],
   "source": []
  },
  {
   "cell_type": "code",
   "execution_count": null,
   "id": "208cef1f-54e9-4062-b901-4eecc7ec1c43",
   "metadata": {},
   "outputs": [],
   "source": []
  }
 ],
 "metadata": {
  "kernelspec": {
   "display_name": "My_Env",
   "language": "python",
   "name": "my_env"
  },
  "language_info": {
   "codemirror_mode": {
    "name": "ipython",
    "version": 3
   },
   "file_extension": ".py",
   "mimetype": "text/x-python",
   "name": "python",
   "nbconvert_exporter": "python",
   "pygments_lexer": "ipython3",
   "version": "3.12.0"
  }
 },
 "nbformat": 4,
 "nbformat_minor": 5
}
